{
 "cells": [
  {
   "cell_type": "code",
   "execution_count": 8,
   "id": "89322252-852e-4292-9041-8f34ca5e1751",
   "metadata": {},
   "outputs": [],
   "source": [
    "def compute_cost(x, y, w, b):\n",
    "    m = x.shape[0]\n",
    "    cost = 0\n",
    "    for i in range(m):\n",
    "        f_wb = w * x[i] + b\n",
    "        cost += (f_wb - y[i]) ** 2\n",
    "    total_cost = (1 / (2 * m)) * cost\n",
    "    return total_cost\n"
   ]
  },
  {
   "cell_type": "code",
   "execution_count": 9,
   "id": "6136d986-91d6-4cdd-b110-b9b20fc431f6",
   "metadata": {},
   "outputs": [],
   "source": [
    "def compute_gradient(x, y, w, b):\n",
    "    m = x.shape[0]\n",
    "    dj_dw = 0\n",
    "    dj_db = 0\n",
    "    for i in range(m):\n",
    "        f_wb = w * x[i] + b\n",
    "        dj_dw += (f_wb - y[i]) * x[i]\n",
    "        dj_db += (f_wb - y[i])\n",
    "    dj_dw /= m\n",
    "    dj_db /= m\n",
    "    return dj_dw, dj_db\n"
   ]
  },
  {
   "cell_type": "code",
   "execution_count": 10,
   "id": "3209615d-60b0-48f3-bfa5-548b33588a65",
   "metadata": {},
   "outputs": [],
   "source": [
    "def gradient_descent(x, y, w, b, alpha, num_iters):\n",
    "    cost_history = []\n",
    "\n",
    "    for i in range(num_iters):\n",
    "        dj_dw, dj_db = compute_gradient(x, y, w, b)\n",
    "        w = w - alpha * dj_dw\n",
    "        b = b - alpha * dj_db\n",
    "\n",
    "        if i % 100 == 0:\n",
    "            cost = compute_cost(x, y, w, b)\n",
    "            cost_history.append(cost)\n",
    "            print(f\"Iteration {i}: Cost {cost:.4f}, w = {w:.4f}, b = {b:.4f}\")\n",
    "    \n",
    "    return w, b\n"
   ]
  },
  {
   "cell_type": "code",
   "execution_count": 11,
   "id": "322926b2-78b4-4cd7-85eb-2a50fd971c03",
   "metadata": {},
   "outputs": [
    {
     "name": "stdout",
     "output_type": "stream",
     "text": [
      "Iteration 0: Cost 925.0045, w = 2.8036, b = 0.5357\n",
      "Iteration 100: Cost 12.8029, w = 10.9799, b = 3.1732\n",
      "Iteration 200: Cost 11.9361, w = 10.8090, b = 4.0878\n",
      "Iteration 300: Cost 11.3061, w = 10.6634, b = 4.8675\n",
      "Iteration 400: Cost 10.8482, w = 10.5392, b = 5.5323\n",
      "Iteration 500: Cost 10.5154, w = 10.4334, b = 6.0990\n",
      "Iteration 600: Cost 10.2736, w = 10.3431, b = 6.5821\n",
      "Iteration 700: Cost 10.0978, w = 10.2662, b = 6.9940\n",
      "Iteration 800: Cost 9.9700, w = 10.2006, b = 7.3451\n",
      "Iteration 900: Cost 9.8771, w = 10.1447, b = 7.6445\n",
      "\n",
      "Final model: w = 10.10, b = 7.90\n"
     ]
    }
   ],
   "source": [
    "import numpy as np\n",
    "\n",
    "# Sample data\n",
    "x_train = np.array([1.5, 2.5, 3.5, 4.5, 5.5, 6.5, 7.5])\n",
    "y_train = np.array([20, 30, 50, 60, 65, 70, 80])\n",
    "\n",
    "# Initial parameters\n",
    "w_init = 0\n",
    "b_init = 0\n",
    "\n",
    "# Training\n",
    "alpha = 0.01\n",
    "iterations = 1000\n",
    "w_final, b_final = gradient_descent(x_train, y_train, w_init, b_init, alpha, iterations)\n",
    "\n",
    "print(f\"\\nFinal model: w = {w_final:.2f}, b = {b_final:.2f}\")\n"
   ]
  },
  {
   "cell_type": "code",
   "execution_count": 12,
   "id": "055b2d7e-4022-4ff8-9fab-25034c20a887",
   "metadata": {},
   "outputs": [
    {
     "name": "stdout",
     "output_type": "stream",
     "text": [
      "\n",
      "Predicted score for 9.09 hours: 99.68\n"
     ]
    }
   ],
   "source": [
    "def predict(x, w, b):\n",
    "    return w * x + b\n",
    "\n",
    "hours = 9.09\n",
    "predicted_score = predict(hours, w_final, b_final)\n",
    "print(f\"\\nPredicted score for {hours} hours: {predicted_score:.2f}\")\n"
   ]
  }
 ],
 "metadata": {
  "kernelspec": {
   "display_name": "Python 3 (ipykernel)",
   "language": "python",
   "name": "python3"
  },
  "language_info": {
   "codemirror_mode": {
    "name": "ipython",
    "version": 3
   },
   "file_extension": ".py",
   "mimetype": "text/x-python",
   "name": "python",
   "nbconvert_exporter": "python",
   "pygments_lexer": "ipython3",
   "version": "3.12.7"
  }
 },
 "nbformat": 4,
 "nbformat_minor": 5
}
